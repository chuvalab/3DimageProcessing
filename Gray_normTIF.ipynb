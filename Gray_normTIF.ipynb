{
 "cells": [
  {
   "cell_type": "markdown",
   "id": "c5d00e32",
   "metadata": {},
   "source": [
    "# Grayscale and normalize images\n",
    "This notebook converts images from input folder to grayscale and normalizes intensity, shipping them to an output folder.\n",
    "\n",
    "In the paper, this notebook was used as the step between FIJI and Adobe Photoshop for cross section images. The workflow was as follows: \n",
    "- FIJI: Use BioImporter to select the 3D .ims file of an rhTestis. \n",
    "- FIJI: Select a single Z slice to obtain a cross section view. \n",
    "- FIJI: Save the Z slice as separate .tiff files per channel. \n",
    "\n",
    "- Then, go to this notebook. Here, the .tiff files will be turned into grayscale images that will be normalized for minimum and maximum signal. The output .tiff files can then be parsed into Photoshop as one image. \n",
    "\n",
    "\n",
    "Of note: \n",
    "- In your directory where this .ipynb notebook is stored, please make a folder and name this \"RawImages\" -> put your .tif files in this \"Images\" folder. \n",
    "- Do not create an output folder, the code will do this. \n",
    "- This notebook will process all the images in your input folder. \n",
    "- The code assumes 16-bit images, but you may change this if needed in 'def normalize_data'.  \n"
   ]
  },
  {
   "cell_type": "markdown",
   "id": "4aee2e51",
   "metadata": {},
   "source": [
    "First, we import the libraries we are going to use:"
   ]
  },
  {
   "cell_type": "code",
   "execution_count": 1,
   "id": "15c4b335",
   "metadata": {},
   "outputs": [],
   "source": [
    "# standard lib\n",
    "from pathlib import Path # only import Path, not able to use the rest of pathlib\n",
    "import os\n",
    "import shutil\n",
    "\n",
    "# 3rd party\n",
    "import tifffile as tiff\n",
    "import numpy as np"
   ]
  },
  {
   "cell_type": "markdown",
   "id": "2401af19",
   "metadata": {},
   "source": [
    "Get current working directory (the folder you are working from) and assign it to the variable root folder. Next, specify input and output folder."
   ]
  },
  {
   "cell_type": "code",
   "execution_count": 2,
   "id": "b8a8e03a",
   "metadata": {},
   "outputs": [],
   "source": [
    "ROOT_FOLDER = Path(os.getcwd()) / \"YOURFOLDER\"\n",
    "\n",
    "INPUT_FOLDER = ROOT_FOLDER / \"RawImages\"\n",
    "OUTPUT_FOLDER = ROOT_FOLDER / \"NormalizedImages\""
   ]
  },
  {
   "cell_type": "markdown",
   "id": "9c10f004",
   "metadata": {},
   "source": [
    "Now we are going to define a function for normalizing image data. We set the lowest intensity to be desired_min (default 0) and the highest intensity to be desired_max (default `2**16` for 16 bit images). Scales everything in between linearly."
   ]
  },
  {
   "cell_type": "code",
   "execution_count": 3,
   "id": "45682176",
   "metadata": {},
   "outputs": [],
   "source": [
    "def normalize_data(data, desired_min=0, desired_max=2**16):\n",
    "    norm_data = (data - np.min(data)) / (np.max(data) - np.min(data)) # converts data to be between 0 (lowest) and 1 (highest)\n",
    "    return (norm_data * (desired_max - desired_min)) + desired_min # converts 0-1 interval to desired_min, desired_max interval\n",
    "\n",
    "# Uses:\n",
    "# normalize_data(data) from 0 to 2**16 (16 bit)\n",
    "# normalize_data(data, desired_max=2**8) (8 bit)"
   ]
  },
  {
   "cell_type": "markdown",
   "id": "0a1acd06",
   "metadata": {},
   "source": [
    "Next, define a function for converting an input file (path to file) to an output file (save image to output file). It converts the image to grayscale (actually the image is already grayscale, but it has no color space, saving it solves this issue). It also normalizes the data, using the function above."
   ]
  },
  {
   "cell_type": "code",
   "execution_count": 4,
   "id": "ef4c8610",
   "metadata": {},
   "outputs": [],
   "source": [
    "def convert_to_grayscale_and_normalize(input_file, output_file):\n",
    "    img = tiff.imread(input_file) # read the file using tiff (tifffile)\n",
    "    normalized_img = normalize_data(img).astype(\"uint16\") # 16 bit integer (unsigned, i.e. only positive)\n",
    "    tiff.imsave(output_file, normalized_img) # Save normalized_img to output_file"
   ]
  },
  {
   "cell_type": "markdown",
   "id": "10b3f9a3",
   "metadata": {},
   "source": [
    "Copy import folder (and all subfolders) to output folder (keeps the structure as well). We do this because we do not want to overwrite the original images, so we first copy and then normalize/convert."
   ]
  },
  {
   "cell_type": "code",
   "execution_count": null,
   "id": "f15884ad",
   "metadata": {
    "scrolled": true
   },
   "outputs": [],
   "source": [
    "# If the following throws an error, the output folder probably already exists. Try removing it and run again.\n",
    "shutil.copytree(INPUT_FOLDER, OUTPUT_FOLDER)"
   ]
  },
  {
   "cell_type": "markdown",
   "id": "b03fc104",
   "metadata": {},
   "source": [
    "Now we get all the files in the output folder (so the copied files) and for each file, convert to grayscale and normalize the image.\n",
    "This overwrites the file in the output folder."
   ]
  },
  {
   "cell_type": "code",
   "execution_count": null,
   "id": "e69a6b0e",
   "metadata": {},
   "outputs": [],
   "source": [
    "# rglob is a way to traverse the directory recursively (get all the files of all the folders in the directory)\n",
    "# The file filter used (*.tif) makes sure we only get .tif files (only TIFF images) and all of them\n",
    "for filename in OUTPUT_FOLDER.rglob('*.tif'):\n",
    "    convert_to_grayscale_and_normalize(filename, filename) # just overwrite, we already copied them"
   ]
  }
 ],
 "metadata": {
  "kernelspec": {
   "display_name": "Python 3 (ipykernel)",
   "language": "python",
   "name": "python3"
  },
  "language_info": {
   "codemirror_mode": {
    "name": "ipython",
    "version": 3
   },
   "file_extension": ".py",
   "mimetype": "text/x-python",
   "name": "python",
   "nbconvert_exporter": "python",
   "pygments_lexer": "ipython3",
   "version": "3.9.7"
  }
 },
 "nbformat": 4,
 "nbformat_minor": 5
}
